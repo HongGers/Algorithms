{
  "nbformat": 4,
  "nbformat_minor": 0,
  "metadata": {
    "colab": {
      "name": "1202.ipynb",
      "provenance": [],
      "authorship_tag": "ABX9TyMAslsiW2Ci7l+b1KiXpI5w",
      "include_colab_link": true
    },
    "kernelspec": {
      "name": "python3",
      "display_name": "Python 3"
    }
  },
  "cells": [
    {
      "cell_type": "markdown",
      "metadata": {
        "id": "view-in-github",
        "colab_type": "text"
      },
      "source": [
        "<a href=\"https://colab.research.google.com/github/HongGers/Algorithms/blob/master/1202.ipynb\" target=\"_parent\"><img src=\"https://colab.research.google.com/assets/colab-badge.svg\" alt=\"Open In Colab\"/></a>"
      ]
    },
    {
      "cell_type": "code",
      "metadata": {
        "colab": {
          "base_uri": "https://localhost:8080/"
        },
        "id": "a_wmVx5xJ-iR",
        "outputId": "8313e553-2600-4386-ec90-465944bee83b"
      },
      "source": [
        "#零錢問題-貪婪法\n",
        "\n",
        "t = [25,20,5,1] #面額\n",
        "\n",
        "def change(t,n):\n",
        "  m = [0 for _ in range(len(t))]\n",
        "\n",
        "  for i, money in enumerate(t):\n",
        "    m[i] = n // money\n",
        "    n = n % money\n",
        "    print(\"第\",i+1,\"次:\",m,\"剩餘\",n,\"元\")\n",
        "    if n==0:  #若已經付完則離開迴圈\n",
        "      break\n",
        "  \n",
        "total = int(input(\"請輸入要付的總金額:\"))\n",
        "print(change(t,total))"
      ],
      "execution_count": 19,
      "outputs": [
        {
          "output_type": "stream",
          "text": [
            "請輸入要付的總金額:41\n",
            "第 1 次: [1, 0, 0, 0] 剩餘 16 元\n",
            "第 2 次: [1, 0, 0, 0] 剩餘 16 元\n",
            "第 3 次: [1, 0, 3, 0] 剩餘 1 元\n",
            "第 4 次: [1, 0, 3, 1] 剩餘 0 元\n",
            "None\n"
          ],
          "name": "stdout"
        }
      ]
    },
    {
      "cell_type": "code",
      "metadata": {
        "colab": {
          "base_uri": "https://localhost:8080/"
        },
        "id": "Kgzq5GzHP9Lu",
        "outputId": "a33be348-a93c-4a8e-8443-680a0aeaa4b4"
      },
      "source": [
        "#零錢問題-動態規劃\n",
        "\n",
        "t = [25,20,5,1] #面額\n",
        "amount = int(input(\"請輸入您要付的金額:\"))\n",
        "DP = [0 for _ in range(amount+1)]\n",
        "DP[0] =0 #0元時最少需付0個硬幣\n",
        "DP[1] =1 #1元時最少需付1個硬幣\n",
        "\n",
        "def Change(t,n):\n",
        "  m = [0 for _ in range(len(t))]\n",
        "  for i in range(min(t), amount+1):\n",
        "    DP[i] = min([DP[i-x] for x in t if i-x>=0])+1\n",
        "    for j in t:\n",
        "      x = t[0]\n",
        "      if DP[i-j] < DP[i-x]:\n",
        "        x = j\n",
        "        m[t.index(x)] =m[t.index(x)]+1\n",
        "        n = n-x\n",
        "        print(m,n)\n",
        "  print(DP[amount])\n",
        "\n",
        "print(Change(t,amount))"
      ],
      "execution_count": 51,
      "outputs": [
        {
          "output_type": "stream",
          "text": [
            "請輸入您要付的金額:41\n",
            "[0, 1, 0, 0] 21\n",
            "[0, 2, 0, 0] 1\n",
            "[0, 2, 0, 1] 0\n",
            "3\n",
            "None\n"
          ],
          "name": "stdout"
        }
      ]
    },
    {
      "cell_type": "code",
      "metadata": {
        "colab": {
          "base_uri": "https://localhost:8080/"
        },
        "id": "QdQCd3QwVhA3",
        "outputId": "f6db0a6b-5976-4335-aed4-3f68989f9c84"
      },
      "source": [
        "#小偷問題-貪婪法\n",
        "\n",
        "Product = [[60000,4],[35000,1],[20000,2],[17000,5],[9000,3]]\n",
        "\n",
        "def Steal(product,maxload):\n",
        "  m = [0 for _ in range(len(product))]\n",
        "  total = 0\n",
        "  for i in range(len(product)):\n",
        "    if product[i][1] <= maxload:\n",
        "      maxload = maxload - product[i][1]\n",
        "      m[i] = 1\n",
        "      total = total+product[i][0]\n",
        "    print(m,\"剩餘負載量:\",maxload,\"公斤\")\n",
        "    print(\"總價值:\",total,\"元\\n---------------------------------------\")\n",
        "\n",
        "print(Steal(Product,10))"
      ],
      "execution_count": 36,
      "outputs": [
        {
          "output_type": "stream",
          "text": [
            "[1, 0, 0, 0, 0] 剩餘負載量: 6 公斤\n",
            "總價值: 60000 元\n",
            "---------------------------------------\n",
            "[1, 1, 0, 0, 0] 剩餘負載量: 5 公斤\n",
            "總價值: 95000 元\n",
            "---------------------------------------\n",
            "[1, 1, 1, 0, 0] 剩餘負載量: 3 公斤\n",
            "總價值: 115000 元\n",
            "---------------------------------------\n",
            "[1, 1, 1, 0, 0] 剩餘負載量: 3 公斤\n",
            "總價值: 115000 元\n",
            "---------------------------------------\n",
            "[1, 1, 1, 0, 1] 剩餘負載量: 0 公斤\n",
            "總價值: 124000 元\n",
            "---------------------------------------\n",
            "None\n"
          ],
          "name": "stdout"
        }
      ]
    }
  ]
}