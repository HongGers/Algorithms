{
  "nbformat": 4,
  "nbformat_minor": 0,
  "metadata": {
    "colab": {
      "name": "Sequential_Search.ipynb",
      "provenance": [],
      "collapsed_sections": [],
      "authorship_tag": "ABX9TyNfY9p67IZicxlkRFoZ1lQo",
      "include_colab_link": true
    },
    "kernelspec": {
      "name": "python3",
      "display_name": "Python 3"
    }
  },
  "cells": [
    {
      "cell_type": "markdown",
      "metadata": {
        "id": "view-in-github",
        "colab_type": "text"
      },
      "source": [
        "<a href=\"https://colab.research.google.com/github/HongGers/Algorithms/blob/master/Sequential_Search.ipynb\" target=\"_parent\"><img src=\"https://colab.research.google.com/assets/colab-badge.svg\" alt=\"Open In Colab\"/></a>"
      ]
    },
    {
      "cell_type": "code",
      "metadata": {
        "id": "M7sD7f4-xX6n",
        "outputId": "24d3a77c-c984-4c6f-b7e6-bf7bfa04f4be",
        "colab": {
          "base_uri": "https://localhost:8080/",
          "height": 51
        }
      },
      "source": [
        "data = [20,31,50,17,16,36,19,8]\n",
        "\n",
        "def sequential_search(data,key):\n",
        "  for i in data:\n",
        "    if i == key:\n",
        "      print(\"找到了\")\n",
        "      break\n",
        "  else:\n",
        "    print(\"沒有喔QAQ\")\n",
        "\n",
        "#for+if搭配else使用:若for loop跑完沒有執行到if裡的內容，就執行else;若執行了if裡的內容，則離開loop並且跳過else。\n",
        "sequential_search(data,int(input(\"輸入你想查詢的數字:\")))"
      ],
      "execution_count": 19,
      "outputs": [
        {
          "output_type": "stream",
          "text": [
            "輸入你想查詢的數字:2\n",
            "沒有喔QAQ\n"
          ],
          "name": "stdout"
        }
      ]
    }
  ]
}