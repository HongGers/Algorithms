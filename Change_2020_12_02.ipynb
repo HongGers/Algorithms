{
  "nbformat": 4,
  "nbformat_minor": 0,
  "metadata": {
    "colab": {
      "name": "Change 2020/12/02.ipynb",
      "provenance": [],
      "authorship_tag": "ABX9TyMh9xCe0iroXktYhNVYfEUt",
      "include_colab_link": true
    },
    "kernelspec": {
      "name": "python3",
      "display_name": "Python 3"
    }
  },
  "cells": [
    {
      "cell_type": "markdown",
      "metadata": {
        "id": "view-in-github",
        "colab_type": "text"
      },
      "source": [
        "<a href=\"https://colab.research.google.com/github/HongGers/Algorithms/blob/master/Change_2020_12_02.ipynb\" target=\"_parent\"><img src=\"https://colab.research.google.com/assets/colab-badge.svg\" alt=\"Open In Colab\"/></a>"
      ]
    },
    {
      "cell_type": "code",
      "metadata": {
        "colab": {
          "base_uri": "https://localhost:8080/"
        },
        "id": "a_wmVx5xJ-iR",
        "outputId": "27531449-94e0-41ec-db9f-bbf0e6249ab9"
      },
      "source": [
        "#面額\n",
        "t = [25,20,5,1]\n",
        "\n",
        "def change(t,n):\n",
        "  m = [0 for _ in range(len(t))]\n",
        "  while n!=0:  \n",
        "    for i, money in enumerate(t):\n",
        "      m[i] = n // money\n",
        "      n = n % money\n",
        "      print(\"第\",i+1,\"次:\",m,\"剩餘\",n,\"元\")\n",
        "      if n==0:  #若已經付完則離開迴圈\n",
        "        break\n",
        "  \n",
        "total = int(input(\"請輸入要付的總金額:\"))\n",
        "print(change(t,total))"
      ],
      "execution_count": 17,
      "outputs": [
        {
          "output_type": "stream",
          "text": [
            "請輸入要付的總金額:21\n",
            "第 1 次: [0, 0, 0, 0] 剩餘 21 元\n",
            "第 2 次: [0, 1, 0, 0] 剩餘 1 元\n",
            "第 3 次: [0, 1, 0, 0] 剩餘 1 元\n",
            "第 4 次: [0, 1, 0, 1] 剩餘 0 元\n",
            "None\n"
          ],
          "name": "stdout"
        }
      ]
    }
  ]
}