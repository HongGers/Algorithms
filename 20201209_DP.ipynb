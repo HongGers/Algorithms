{
  "nbformat": 4,
  "nbformat_minor": 0,
  "metadata": {
    "colab": {
      "name": "20201209/DP.ipynb",
      "provenance": [],
      "collapsed_sections": [],
      "authorship_tag": "ABX9TyNmcDmm0xV2e7os1JTCf8le",
      "include_colab_link": true
    },
    "kernelspec": {
      "name": "python3",
      "display_name": "Python 3"
    }
  },
  "cells": [
    {
      "cell_type": "markdown",
      "metadata": {
        "id": "view-in-github",
        "colab_type": "text"
      },
      "source": [
        "<a href=\"https://colab.research.google.com/github/HongGers/Algorithms/blob/master/20201209_DP.ipynb\" target=\"_parent\"><img src=\"https://colab.research.google.com/assets/colab-badge.svg\" alt=\"Open In Colab\"/></a>"
      ]
    },
    {
      "cell_type": "code",
      "metadata": {
        "colab": {
          "base_uri": "https://localhost:8080/"
        },
        "id": "SZxck23GWtAe",
        "outputId": "292079c9-fc77-4417-a013-a10ef6437bfe"
      },
      "source": [
        "n = int(input(\"輸入您的鐵條長度(n):\"));\r\n",
        "p = [1,5,8,9,10,17,17,20,24,30];\r\n",
        "\r\n",
        "def CutRod(p,n):\r\n",
        "  if n == 0:  #如果長度=1則回傳1\r\n",
        "    return 0;\r\n",
        "  q=-9999999999999999999;\r\n",
        "  for i in range(1,n+1):  #從1開始切，一直切到n\r\n",
        "    q = max(q,p[i-1]+CutRod(p,n-i));  #逐個比較，將最大值賦予給q\r\n",
        "  return q; #回傳q\r\n",
        "\r\n",
        "print(CutRod(p,n));"
      ],
      "execution_count": 16,
      "outputs": [
        {
          "output_type": "stream",
          "text": [
            "輸入您的鐵條長度(n):5\n",
            "13\n"
          ],
          "name": "stdout"
        }
      ]
    }
  ]
}