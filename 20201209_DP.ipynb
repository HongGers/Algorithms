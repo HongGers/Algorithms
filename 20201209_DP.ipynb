{
  "nbformat": 4,
  "nbformat_minor": 0,
  "metadata": {
    "colab": {
      "name": "20201209/DP.ipynb",
      "provenance": [],
      "collapsed_sections": [],
      "authorship_tag": "ABX9TyOW5b1znGZ+L2qFxaxUobgk",
      "include_colab_link": true
    },
    "kernelspec": {
      "name": "python3",
      "display_name": "Python 3"
    }
  },
  "cells": [
    {
      "cell_type": "markdown",
      "metadata": {
        "id": "view-in-github",
        "colab_type": "text"
      },
      "source": [
        "<a href=\"https://colab.research.google.com/github/HongGers/Algorithms/blob/master/20201209_DP.ipynb\" target=\"_parent\"><img src=\"https://colab.research.google.com/assets/colab-badge.svg\" alt=\"Open In Colab\"/></a>"
      ]
    },
    {
      "cell_type": "code",
      "metadata": {
        "colab": {
          "base_uri": "https://localhost:8080/"
        },
        "id": "SZxck23GWtAe",
        "outputId": "ee4a7e54-d905-4ad7-fcf1-ebf184995244"
      },
      "source": [
        "n = int(input(\"輸入您的鐵條長度(n):\"));\r\n",
        "p = [1,5,8,9,10,17,17,20,24,30];\r\n",
        "\r\n",
        "def CutRod(p,n):\r\n",
        "  if n == 0:\r\n",
        "    return 0;\r\n",
        "  q=-99999999;\r\n",
        "  for i in range(1,n+1):\r\n",
        "    q = max(q,p[i-1]+CutRod(p,n-i));\r\n",
        "  return q;\r\n",
        "\r\n",
        "print(CutRod(p,n));"
      ],
      "execution_count": 10,
      "outputs": [
        {
          "output_type": "stream",
          "text": [
            "輸入您的鐵條長度(n):5\n",
            "13\n"
          ],
          "name": "stdout"
        }
      ]
    }
  ]
}