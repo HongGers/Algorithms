{
  "nbformat": 4,
  "nbformat_minor": 0,
  "metadata": {
    "colab": {
      "name": "ts_analysis.ipynb",
      "provenance": [],
      "authorship_tag": "ABX9TyMmPu/eZJoFhZSKZ7wortkU",
      "include_colab_link": true
    },
    "kernelspec": {
      "name": "python3",
      "display_name": "Python 3"
    }
  },
  "cells": [
    {
      "cell_type": "markdown",
      "metadata": {
        "id": "view-in-github",
        "colab_type": "text"
      },
      "source": [
        "<a href=\"https://colab.research.google.com/github/HongGers/Algorithms/blob/master/ts_analysis.ipynb\" target=\"_parent\"><img src=\"https://colab.research.google.com/assets/colab-badge.svg\" alt=\"Open In Colab\"/></a>"
      ]
    },
    {
      "cell_type": "code",
      "metadata": {
        "id": "JNP0BCxq3jIK",
        "outputId": "2867b1b2-6f37-49b3-9c80-e3542fc325d1",
        "colab": {
          "base_uri": "https://localhost:8080/"
        }
      },
      "source": [
        "#透過判斷式判斷閏年，時間較長但無須大量資料=>時間換取空間\n",
        "\n",
        "year = int(input(\"輸入您想查詢的年份:\"))\n",
        "\n",
        "if year%400==0:  #判斷年份是否整除400\n",
        "  print(year,\"為閏年\")\n",
        "elif (year%4==0)&(year%100!=0):  #判斷年份是否整除4並且不被100整除\n",
        "  print(year,\"為閏年\")\n",
        "else:\n",
        "  print(year,\"不是閏年\")\n",
        "\n",
        "\n",
        "   "
      ],
      "execution_count": 42,
      "outputs": [
        {
          "output_type": "stream",
          "text": [
            "輸入您想確認的年份:2004\n",
            "2004 為閏年\n"
          ],
          "name": "stdout"
        }
      ]
    },
    {
      "cell_type": "code",
      "metadata": {
        "id": "onu8Xy2AAWaS",
        "outputId": "4b64df90-9d94-4efa-8bc1-9d70a19087e3",
        "colab": {
          "base_uri": "https://localhost:8080/"
        }
      },
      "source": [
        "#建立陣列(a)後，以index為年份(a[0]=2000年)，查詢其值，若值為1則為閏年，值為0則為平年=>空間換取時間\n",
        "\n",
        "a = list()\n",
        "\n",
        "#此區塊為建立資料陣列的程式--------------------------------------\n",
        "for i in range(2000,2041):    \n",
        "  if i%400==0:          \n",
        "    a.append(1)         \n",
        "  elif (i%4==0) & (i%100!=0): \n",
        "    a.append(1)         \n",
        "  else:\n",
        "    a.append(0)\n",
        "#----------------------------------------------------------------\n",
        "\n",
        "year = int(input(\"輸入您想查詢的年份:\"))\n",
        "\n",
        "if (a[year-2000]==1):  #直接查詢其index之值為1或0\n",
        "  print(year,\"為閏年\")\n",
        "else:\n",
        "  print(year,\"不是閏年\")"
      ],
      "execution_count": 48,
      "outputs": [
        {
          "output_type": "stream",
          "text": [
            "輸入您想查詢的年份:2012\n",
            "2012 為閏年\n"
          ],
          "name": "stdout"
        }
      ]
    }
  ]
}