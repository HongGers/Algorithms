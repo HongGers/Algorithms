{
  "nbformat": 4,
  "nbformat_minor": 0,
  "metadata": {
    "colab": {
      "name": "Hanoi.ipynb",
      "provenance": [],
      "authorship_tag": "ABX9TyMatykMUKmLMzBfRJELBNfb",
      "include_colab_link": true
    },
    "kernelspec": {
      "name": "python3",
      "display_name": "Python 3"
    }
  },
  "cells": [
    {
      "cell_type": "markdown",
      "metadata": {
        "id": "view-in-github",
        "colab_type": "text"
      },
      "source": [
        "<a href=\"https://colab.research.google.com/github/HongGers/Algorithms/blob/master/Hanoi.ipynb\" target=\"_parent\"><img src=\"https://colab.research.google.com/assets/colab-badge.svg\" alt=\"Open In Colab\"/></a>"
      ]
    },
    {
      "cell_type": "code",
      "metadata": {
        "id": "Te_OA-FdIX9M",
        "outputId": "4a751145-99a9-4f9e-f583-1c6685b7c10a",
        "colab": {
          "base_uri": "https://localhost:8080/"
        }
      },
      "source": [
        "def hanoi(n ,a,b,c): \n",
        "  if n==1:\n",
        "    print(\"%d-->%d\"%(a,c))\n",
        "  else:\n",
        "    hanoi(n-1,a,c,b)\n",
        "    print(\"%d-->%d\"%(a,c))\n",
        "    hanoi(n-1,b,a,c)\n",
        "\n",
        "hanoi(3,1,2,3)"
      ],
      "execution_count": 7,
      "outputs": [
        {
          "output_type": "stream",
          "text": [
            "1-->3\n",
            "1-->2\n",
            "3-->2\n",
            "1-->3\n",
            "2-->1\n",
            "2-->3\n",
            "1-->3\n"
          ],
          "name": "stdout"
        }
      ]
    }
  ]
}