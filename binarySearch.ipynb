{
  "nbformat": 4,
  "nbformat_minor": 0,
  "metadata": {
    "colab": {
      "name": "binarySearch.ipynb",
      "provenance": [],
      "authorship_tag": "ABX9TyO9doGoepoLIRTyaxG9WxKB",
      "include_colab_link": true
    },
    "kernelspec": {
      "name": "python3",
      "display_name": "Python 3"
    }
  },
  "cells": [
    {
      "cell_type": "markdown",
      "metadata": {
        "id": "view-in-github",
        "colab_type": "text"
      },
      "source": [
        "<a href=\"https://colab.research.google.com/github/HongGers/Algorithms/blob/master/binarySearch.ipynb\" target=\"_parent\"><img src=\"https://colab.research.google.com/assets/colab-badge.svg\" alt=\"Open In Colab\"/></a>"
      ]
    },
    {
      "cell_type": "code",
      "metadata": {
        "id": "YEUDkRS48RH2",
        "outputId": "df24f2f9-836c-4ccc-e880-a2d3744c6619",
        "colab": {
          "base_uri": "https://localhost:8080/",
          "height": 34
        }
      },
      "source": [
        "def binarySearch(arr,l,r,x):\n",
        "  if r>=l:\n",
        "    mid = l+(r-l)//2\n",
        "    if arr[mid]==x:\n",
        "      return mid\n",
        "    elif arr[mid]>x:\n",
        "      return binarySearch(arr,l,mid-1,x)\n",
        "    else:\n",
        "      return binarySearch(arr,mid+1,r,x)\n",
        "  else:\n",
        "    return -1\n",
        "arr=[5,8,9,15,30]\n",
        "x=9\n",
        "\n",
        "result=binarySearch(arr,0,len(arr)-1,x)\n",
        "\n",
        "if result!=-1:\n",
        "  print(\"元素在所引%d\"%result)\n",
        "else:\n",
        "  print(\"陣列中找不到該元素\")\n"
      ],
      "execution_count": 12,
      "outputs": [
        {
          "output_type": "stream",
          "text": [
            "元素在所引2\n"
          ],
          "name": "stdout"
        }
      ]
    },
    {
      "cell_type": "code",
      "metadata": {
        "id": "k_PZHisf_kgc",
        "outputId": "489d3060-3cfc-4da2-b50f-45a97533381f",
        "colab": {
          "base_uri": "https://localhost:8080/",
          "height": 170
        }
      },
      "source": [
        "def binarySearch(arr,l,r,x):\n",
        "  if r>=l:\n",
        "    mid = l+(r-l)//2\n",
        "    if arr[mid]==x:\n",
        "      return mid\n",
        "    elif arr[mid]>x:\n",
        "      return binarySearch(arr,l,mid-1,x)\n",
        "    else:\n",
        "      return binarySearch(arr,mid+1,r,x)\n",
        "  else:\n",
        "    return -1\n",
        "\n",
        "def Selection_Sort(datas): \n",
        "  for i in range(len(datas)-1):\n",
        "      min = i \n",
        "      for j in range(i+1, len(datas)):\n",
        "          if datas[j] < datas[min]:\n",
        "              min = j\n",
        "\n",
        "      datas[i], datas[min] = datas[min], datas[i]\n",
        "  return datas\n",
        "\n",
        "arr=[]\n",
        "for i in range(5):\n",
        "  arr.append(int(input(\"輸入您的資料:\")))\n",
        "print(\"原陣列:\",arr)\n",
        "Selection_Sort(arr)\n",
        "print(\"排序後:\",arr)\n",
        "x=int(input(\"輸入您想要查詢的數:\"))\n",
        "\n",
        "result=binarySearch(arr,0,len(arr)-1,x)\n",
        "\n",
        "if result!=-1:\n",
        "  print(\"元素在所引%d\"%result)\n",
        "else:\n",
        "  print(\"陣列中找不到該元素\")"
      ],
      "execution_count": 16,
      "outputs": [
        {
          "output_type": "stream",
          "text": [
            "輸入您的資料:3\n",
            "輸入您的資料:57\n",
            "輸入您的資料:4\n",
            "輸入您的資料:89\n",
            "輸入您的資料:1\n",
            "原陣列: [3, 57, 4, 89, 1]\n",
            "排序後: [1, 3, 4, 57, 89]\n",
            "輸入您想要查詢的數:4\n",
            "元素在所引2\n"
          ],
          "name": "stdout"
        }
      ]
    }
  ]
}