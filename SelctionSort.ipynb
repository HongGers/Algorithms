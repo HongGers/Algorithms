{
  "nbformat": 4,
  "nbformat_minor": 0,
  "metadata": {
    "colab": {
      "name": "selctionsort.ipynb",
      "provenance": [],
      "collapsed_sections": [],
      "include_colab_link": true
    },
    "kernelspec": {
      "name": "python3",
      "display_name": "Python 3"
    }
  },
  "cells": [
    {
      "cell_type": "markdown",
      "metadata": {
        "id": "view-in-github",
        "colab_type": "text"
      },
      "source": [
        "<a href=\"https://colab.research.google.com/github/HongGers/Algorithms/blob/master/SelctionSort.ipynb\" target=\"_parent\"><img src=\"https://colab.research.google.com/assets/colab-badge.svg\" alt=\"Open In Colab\"/></a>"
      ]
    },
    {
      "cell_type": "markdown",
      "metadata": {
        "id": "W-Z0kMaDLJOp"
      },
      "source": [
        "Selection sort (選擇排序) 2020/10/6"
      ]
    },
    {
      "cell_type": "code",
      "metadata": {
        "id": "8tM3sv79HQ_V",
        "outputId": "a038ddeb-5358-4b6d-b9dd-26660e461f47",
        "colab": {
          "base_uri": "https://localhost:8080/",
          "height": 561
        }
      },
      "source": [
        "def Selction_Sort(datas):   #Suppose datas=n\n",
        "    for i in range(len(datas)-1):   #n\n",
        "        min = i # 第一次選從第一個數開始,第二次從第二個數開始  #n\n",
        "        for j in range(i+1, len(datas)):    # 用記錄的max數與其他的比較  #n(n+1)/2\n",
        "            if datas[j] < datas[min]:    #n(n+1)/2\n",
        "                min = j    ##n(n+1)/2\n",
        "\n",
        "        datas[i], datas[min] = datas[min], datas[i]\n",
        "\n",
        "        print(datas)\n",
        "        print('---'*10)\n",
        "    return datas     #Total = 2n+3(n(n+1))/2 = 2n+3(n^2+n)/2 = 2n+(3n^2+3n)/2 => O(n^2)\n",
        "\n",
        "\n",
        "if __name__ == '__main__':\n",
        "    import random\n",
        "    a = list(range(16))\n",
        "    random.shuffle(a)\n",
        "    print(a)\n",
        "    a = Selction_Sort(a)\n",
        "    print(a)"
      ],
      "execution_count": null,
      "outputs": [
        {
          "output_type": "stream",
          "text": [
            "[11, 13, 4, 14, 9, 12, 10, 6, 1, 5, 8, 0, 15, 2, 3, 7]\n",
            "[0, 13, 4, 14, 9, 12, 10, 6, 1, 5, 8, 11, 15, 2, 3, 7]\n",
            "------------------------------\n",
            "[0, 1, 4, 14, 9, 12, 10, 6, 13, 5, 8, 11, 15, 2, 3, 7]\n",
            "------------------------------\n",
            "[0, 1, 2, 14, 9, 12, 10, 6, 13, 5, 8, 11, 15, 4, 3, 7]\n",
            "------------------------------\n",
            "[0, 1, 2, 3, 9, 12, 10, 6, 13, 5, 8, 11, 15, 4, 14, 7]\n",
            "------------------------------\n",
            "[0, 1, 2, 3, 4, 12, 10, 6, 13, 5, 8, 11, 15, 9, 14, 7]\n",
            "------------------------------\n",
            "[0, 1, 2, 3, 4, 5, 10, 6, 13, 12, 8, 11, 15, 9, 14, 7]\n",
            "------------------------------\n",
            "[0, 1, 2, 3, 4, 5, 6, 10, 13, 12, 8, 11, 15, 9, 14, 7]\n",
            "------------------------------\n",
            "[0, 1, 2, 3, 4, 5, 6, 7, 13, 12, 8, 11, 15, 9, 14, 10]\n",
            "------------------------------\n",
            "[0, 1, 2, 3, 4, 5, 6, 7, 8, 12, 13, 11, 15, 9, 14, 10]\n",
            "------------------------------\n",
            "[0, 1, 2, 3, 4, 5, 6, 7, 8, 9, 13, 11, 15, 12, 14, 10]\n",
            "------------------------------\n",
            "[0, 1, 2, 3, 4, 5, 6, 7, 8, 9, 10, 11, 15, 12, 14, 13]\n",
            "------------------------------\n",
            "[0, 1, 2, 3, 4, 5, 6, 7, 8, 9, 10, 11, 15, 12, 14, 13]\n",
            "------------------------------\n",
            "[0, 1, 2, 3, 4, 5, 6, 7, 8, 9, 10, 11, 12, 15, 14, 13]\n",
            "------------------------------\n",
            "[0, 1, 2, 3, 4, 5, 6, 7, 8, 9, 10, 11, 12, 13, 14, 15]\n",
            "------------------------------\n",
            "[0, 1, 2, 3, 4, 5, 6, 7, 8, 9, 10, 11, 12, 13, 14, 15]\n",
            "------------------------------\n",
            "[0, 1, 2, 3, 4, 5, 6, 7, 8, 9, 10, 11, 12, 13, 14, 15]\n"
          ],
          "name": "stdout"
        }
      ]
    },
    {
      "cell_type": "markdown",
      "metadata": {
        "id": "MiWPt8bALDN5"
      },
      "source": [
        "請加入註解\n"
      ]
    }
  ]
}