{
  "nbformat": 4,
  "nbformat_minor": 0,
  "metadata": {
    "colab": {
      "name": "期中實作.ipynb",
      "provenance": [],
      "collapsed_sections": [],
      "authorship_tag": "ABX9TyM+oRrw/kV8vLb2MlGiapI8",
      "include_colab_link": true
    },
    "kernelspec": {
      "name": "python3",
      "display_name": "Python 3"
    }
  },
  "cells": [
    {
      "cell_type": "markdown",
      "metadata": {
        "id": "view-in-github",
        "colab_type": "text"
      },
      "source": [
        "<a href=\"https://colab.research.google.com/github/HongGers/Algorithms/blob/master/%E6%9C%9F%E4%B8%AD%E5%AF%A6%E4%BD%9C2020/11/24.ipynb\" target=\"_parent\"><img src=\"https://colab.research.google.com/assets/colab-badge.svg\" alt=\"Open In Colab\"/></a>"
      ]
    },
    {
      "cell_type": "code",
      "metadata": {
        "colab": {
          "base_uri": "https://localhost:8080/"
        },
        "id": "wJ_sInJ01itq",
        "outputId": "2276ec25-2771-4658-ab1b-ccf2b28d236f"
      },
      "source": [
        "import random\n",
        "#Selection Sort(大到小)\n",
        "\n",
        "def Selection(datas):\n",
        "  for i in range(len(datas)-1):\n",
        "        min = i # 第一次選從第一個數開始,第二次從第二個數開始 \n",
        "        for j in range(i+1, len(datas)):    # 用記錄的max數與其他的比較\n",
        "            if datas[j] > datas[min]:    #如果大於min則與之交換位子\n",
        "                min = j    \n",
        "\n",
        "        datas[i], datas[min] = datas[min], datas[i] \n",
        "\n",
        "        print(\"第\",i+1,\"次排序\",datas)\n",
        "        print('---'*10)\n",
        "  return datas\n",
        "\n",
        "data = []\n",
        "for i in range(8):\n",
        "  data.append(random.randint(1,100))\n",
        "\n",
        "print(\"原始數列:\",data)\n",
        "Selection(data)\n"
      ],
      "execution_count": 14,
      "outputs": [
        {
          "output_type": "stream",
          "text": [
            "原始數列: [42, 85, 87, 5, 32, 24, 79, 51]\n",
            "第 1 次排序 [87, 85, 42, 5, 32, 24, 79, 51]\n",
            "------------------------------\n",
            "第 2 次排序 [87, 85, 42, 5, 32, 24, 79, 51]\n",
            "------------------------------\n",
            "第 3 次排序 [87, 85, 79, 5, 32, 24, 42, 51]\n",
            "------------------------------\n",
            "第 4 次排序 [87, 85, 79, 51, 32, 24, 42, 5]\n",
            "------------------------------\n",
            "第 5 次排序 [87, 85, 79, 51, 42, 24, 32, 5]\n",
            "------------------------------\n",
            "第 6 次排序 [87, 85, 79, 51, 42, 32, 24, 5]\n",
            "------------------------------\n",
            "第 7 次排序 [87, 85, 79, 51, 42, 32, 24, 5]\n",
            "------------------------------\n"
          ],
          "name": "stdout"
        },
        {
          "output_type": "execute_result",
          "data": {
            "text/plain": [
              "[87, 85, 79, 51, 42, 32, 24, 5]"
            ]
          },
          "metadata": {
            "tags": []
          },
          "execution_count": 14
        }
      ]
    },
    {
      "cell_type": "code",
      "metadata": {
        "colab": {
          "base_uri": "https://localhost:8080/"
        },
        "id": "XJjAmiuY5SwA",
        "outputId": "1a797549-b215-40fb-d417-f7d23b9e39a2"
      },
      "source": [
        "import random\n",
        "#Insertion Sort\n",
        "def Insertion(datas):\n",
        "  for i in range(len(datas)):\n",
        "      preIndex = i-1  #當前的前一個index值\n",
        "      current = datas[i]  #當前值\n",
        "      while preIndex >= 0 and datas[preIndex] > current:  #將當前值插入適當位置\n",
        "          datas[preIndex+1] = datas[preIndex]\n",
        "          preIndex-=1\n",
        "      datas[preIndex+1] = current\n",
        "      print(\"第\",i+1,\"次排序:\",datas)\n",
        "  return datas\n",
        "\n",
        "data = []\n",
        "for i in range(8):\n",
        "  data.append(random.randint(1,100))\n",
        "\n",
        "Insertion(data)"
      ],
      "execution_count": 16,
      "outputs": [
        {
          "output_type": "stream",
          "text": [
            "第 1 次排序: [49, 7, 4, 99, 38, 41, 68, 34]\n",
            "第 2 次排序: [7, 49, 4, 99, 38, 41, 68, 34]\n",
            "第 3 次排序: [4, 7, 49, 99, 38, 41, 68, 34]\n",
            "第 4 次排序: [4, 7, 49, 99, 38, 41, 68, 34]\n",
            "第 5 次排序: [4, 7, 38, 49, 99, 41, 68, 34]\n",
            "第 6 次排序: [4, 7, 38, 41, 49, 99, 68, 34]\n",
            "第 7 次排序: [4, 7, 38, 41, 49, 68, 99, 34]\n",
            "第 8 次排序: [4, 7, 34, 38, 41, 49, 68, 99]\n"
          ],
          "name": "stdout"
        },
        {
          "output_type": "execute_result",
          "data": {
            "text/plain": [
              "[4, 7, 34, 38, 41, 49, 68, 99]"
            ]
          },
          "metadata": {
            "tags": []
          },
          "execution_count": 16
        }
      ]
    }
  ]
}