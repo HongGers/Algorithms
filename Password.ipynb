{
  "nbformat": 4,
  "nbformat_minor": 0,
  "metadata": {
    "colab": {
      "name": "Password.ipynb",
      "provenance": [],
      "authorship_tag": "ABX9TyMHnUtgHXnKSRHNRff2rjc0",
      "include_colab_link": true
    },
    "kernelspec": {
      "name": "python3",
      "display_name": "Python 3"
    }
  },
  "cells": [
    {
      "cell_type": "markdown",
      "metadata": {
        "id": "view-in-github",
        "colab_type": "text"
      },
      "source": [
        "<a href=\"https://colab.research.google.com/github/HongGers/Algorithms/blob/master/Password.ipynb\" target=\"_parent\"><img src=\"https://colab.research.google.com/assets/colab-badge.svg\" alt=\"Open In Colab\"/></a>"
      ]
    },
    {
      "cell_type": "code",
      "metadata": {
        "id": "fSTHBAIhFbLK",
        "outputId": "586715d5-a349-4f6e-9163-0258b2d79e90",
        "colab": {
          "base_uri": "https://localhost:8080/"
        }
      },
      "source": [
        "import random\n",
        "\n",
        "ans = random.randint(1,101)\n",
        "i=1\n",
        "while(True):\n",
        "  guess = int(input(\"輸入您想猜的答案\"))\n",
        "  if ans == guess:\n",
        "    print(\"恭喜你答對了，你花了\",i,\"次才猜對\")\n",
        "    break\n",
        "  elif guess > ans:\n",
        "    print(\"答案比\",guess,\"還小\")\n",
        "    i=i+1\n",
        "  elif guess < ans:\n",
        "    print(\"答案比\",guess,\"還大\")\n",
        "    i=i+1\n"
      ],
      "execution_count": 13,
      "outputs": [
        {
          "output_type": "stream",
          "text": [
            "輸入您想猜的答案4\n",
            "答案比 4 還大\n",
            "輸入您想猜的答案50\n",
            "答案比 50 還大\n",
            "輸入您想猜的答案75\n",
            "答案比 75 還小\n",
            "輸入您想猜的答案600\n",
            "答案比 600 還小\n",
            "輸入您想猜的答案60\n",
            "答案比 60 還小\n",
            "輸入您想猜的答案55\n",
            "答案比 55 還小\n",
            "輸入您想猜的答案53\n",
            "答案比 53 還小\n",
            "輸入您想猜的答案52\n",
            "答案比 52 還小\n",
            "輸入您想猜的答案51\n",
            "恭喜你答對了，你花了 9 次才猜對\n"
          ],
          "name": "stdout"
        }
      ]
    }
  ]
}