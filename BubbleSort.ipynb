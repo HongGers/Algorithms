{
  "nbformat": 4,
  "nbformat_minor": 0,
  "metadata": {
    "colab": {
      "name": "bubblesort.ipynb",
      "provenance": [],
      "include_colab_link": true
    },
    "kernelspec": {
      "name": "python3",
      "display_name": "Python 3"
    }
  },
  "cells": [
    {
      "cell_type": "markdown",
      "metadata": {
        "id": "view-in-github",
        "colab_type": "text"
      },
      "source": [
        "<a href=\"https://colab.research.google.com/github/HongGers/Algorithms/blob/master/BubbleSort.ipynb\" target=\"_parent\"><img src=\"https://colab.research.google.com/assets/colab-badge.svg\" alt=\"Open In Colab\"/></a>"
      ]
    },
    {
      "cell_type": "markdown",
      "metadata": {
        "id": "32sgU0StMiof"
      },
      "source": [
        "Bubble sort (氣泡排序) 2020/10/7"
      ]
    },
    {
      "cell_type": "code",
      "metadata": {
        "id": "esB_4fSeMLYJ",
        "outputId": "df53b28d-6946-41fe-d73c-a9abd44eb06d",
        "colab": {
          "base_uri": "https://localhost:8080/"
        }
      },
      "source": [
        "def Bubble_Sort(datas):\n",
        "    for i in range(1, len(datas)): # \n",
        "        for j in range(len(datas)-i):   # \n",
        "            if datas[j] > datas[j+1]:   # \n",
        "                datas[j], datas[j+1] = datas[j+1], datas[j]\n",
        "    return datas\n",
        "\n",
        "\n",
        "if __name__ == '__main__':\n",
        "    import random\n",
        "    a = list()\n",
        "    for i in range(6):   #使用for迴圈讓使用者輸入六次資料\n",
        "      a.append(int(input(\"請輸入資料:\")))   #使用append將使用者輸入的資料(轉成整數型態後的資料)加入a list中\n",
        "    random.shuffle(a)\n",
        "    print(a)\n",
        "    a = Bubble_Sort(a)\n",
        "    print(a)"
      ],
      "execution_count": 5,
      "outputs": [
        {
          "output_type": "stream",
          "text": [
            "請輸入資料:34\n",
            "請輸入資料:54\n",
            "請輸入資料:13\n",
            "請輸入資料:28\n",
            "請輸入資料:47\n",
            "請輸入資料:2\n",
            "[34, 28, 54, 47, 13, 2]\n",
            "[2, 13, 28, 34, 47, 54]\n"
          ],
          "name": "stdout"
        }
      ]
    },
    {
      "cell_type": "markdown",
      "metadata": {
        "id": "MOQ_aZKnM-wL"
      },
      "source": [
        "請加入註解，並將程式修改為加入六個數做氣泡排序\n"
      ]
    }
  ]
}